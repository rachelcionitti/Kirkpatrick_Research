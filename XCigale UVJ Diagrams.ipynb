{
 "cells": [
  {
   "cell_type": "code",
   "execution_count": 1,
   "metadata": {},
   "outputs": [],
   "source": [
    "from astropy.io import fits \n",
    "import matplotlib.pyplot as plt\n",
    "import numpy as np \n",
    "from scipy.optimize import minimize, rosen, rosen_der\n",
    "from scipy import interpolate\n",
    "import scipy\n",
    "import os \n",
    "from scipy.optimize import curve_fit\n",
    "from scipy.integrate import simps\n",
    "import math\n",
    "from astropy.io import ascii\n",
    "params = {\"ytick.color\" : \"w\",\n",
    "          \"xtick.color\" : \"w\",\n",
    "          \"text.color\" : \"w\",\n",
    "          \"axes.labelcolor\" : \"w\",\n",
    "          \"axes.edgecolor\" : \"w\"}\n",
    "plt.rcParams.update(params)\n",
    "from astropy.cosmology import WMAP9 as cosmo"
   ]
  },
  {
   "cell_type": "code",
   "execution_count": 7,
   "metadata": {},
   "outputs": [],
   "source": [
    "U = ultra_fake[:,0]\n",
    "V = ultra_fake[:,1]\n",
    "J = ultra_fake[:,2]"
   ]
  },
  {
   "cell_type": "code",
   "execution_count": 9,
   "metadata": {
    "scrolled": true
   },
   "outputs": [
    {
     "ename": "IndexError",
     "evalue": "index 2601 is out of bounds for axis 0 with size 2597",
     "output_type": "error",
     "traceback": [
      "\u001b[1;31m---------------------------------------------------------------------------\u001b[0m",
      "\u001b[1;31mIndexError\u001b[0m                                Traceback (most recent call last)",
      "\u001b[1;32m<ipython-input-9-1c281291b774>\u001b[0m in \u001b[0;36m<module>\u001b[1;34m\u001b[0m\n\u001b[0;32m      3\u001b[0m     \u001b[0minds\u001b[0m \u001b[1;33m=\u001b[0m \u001b[0mnp\u001b[0m\u001b[1;33m.\u001b[0m\u001b[0mwhere\u001b[0m\u001b[1;33m(\u001b[0m\u001b[0mnp\u001b[0m\u001b[1;33m.\u001b[0m\u001b[0mlogical_and\u001b[0m\u001b[1;33m(\u001b[0m\u001b[0minput_redshift\u001b[0m \u001b[1;33m>\u001b[0m \u001b[0mx\u001b[0m\u001b[1;33m[\u001b[0m\u001b[1;36m0\u001b[0m\u001b[1;33m]\u001b[0m\u001b[1;33m,\u001b[0m \u001b[0minput_redshift\u001b[0m \u001b[1;33m<\u001b[0m \u001b[0mx\u001b[0m\u001b[1;33m[\u001b[0m\u001b[1;36m1\u001b[0m\u001b[1;33m]\u001b[0m\u001b[1;33m)\u001b[0m\u001b[1;33m)\u001b[0m\u001b[1;33m\u001b[0m\u001b[1;33m\u001b[0m\u001b[0m\n\u001b[0;32m      4\u001b[0m     \u001b[1;31m#xray1 = Xhard[inds[0]]\u001b[0m\u001b[1;33m\u001b[0m\u001b[1;33m\u001b[0m\u001b[1;33m\u001b[0m\u001b[0m\n\u001b[1;32m----> 5\u001b[1;33m     \u001b[0mids1\u001b[0m \u001b[1;33m=\u001b[0m \u001b[0mids\u001b[0m\u001b[1;33m[\u001b[0m\u001b[0minds\u001b[0m\u001b[1;33m[\u001b[0m\u001b[1;36m0\u001b[0m\u001b[1;33m]\u001b[0m\u001b[1;33m]\u001b[0m\u001b[1;33m\u001b[0m\u001b[1;33m\u001b[0m\u001b[0m\n\u001b[0m\u001b[0;32m      6\u001b[0m     \u001b[1;31m#q_or_sf1 = q_or_sf[inds[0]]\u001b[0m\u001b[1;33m\u001b[0m\u001b[1;33m\u001b[0m\u001b[1;33m\u001b[0m\u001b[0m\n\u001b[0;32m      7\u001b[0m     \u001b[1;31m#galaxies1 = ids[inds[0]]\u001b[0m\u001b[1;33m\u001b[0m\u001b[1;33m\u001b[0m\u001b[1;33m\u001b[0m\u001b[0m\n",
      "\u001b[1;32mastropy\\table\\_column_mixins.pyx\u001b[0m in \u001b[0;36mastropy.table._column_mixins._ColumnGetitemShim.__getitem__\u001b[1;34m()\u001b[0m\n",
      "\u001b[1;32mastropy\\table\\_column_mixins.pyx\u001b[0m in \u001b[0;36mastropy.table._column_mixins.base_getitem\u001b[1;34m()\u001b[0m\n",
      "\u001b[1;32mastropy\\table\\_column_mixins.pyx\u001b[0m in \u001b[0;36mastropy.table._column_mixins.column_getitem\u001b[1;34m()\u001b[0m\n",
      "\u001b[1;31mIndexError\u001b[0m: index 2601 is out of bounds for axis 0 with size 2597"
     ]
    }
   ],
   "source": [
    "all_outliers = [] \n",
    "for x in [[0,0.5,0.1], [0.5,1,0.1], [1,1.5,0.1], [1.5,2,1], [2,2.5,0.2]]:\n",
    "    inds = np.where(np.logical_and(input_redshift > x[0], input_redshift < x[1]))\n",
    "    #xray1 = Xhard[inds[0]]\n",
    "    ids1 = ids[inds[0]]\n",
    "    #q_or_sf1 = q_or_sf[inds[0]]\n",
    "    #galaxies1 = ids[inds[0]]\n",
    "    \n",
    "    U_V = U-V\n",
    "    V_J = V-J\n",
    "    \n",
    "    U_V = U_V[inds[0]]\n",
    "    V_J = V_J[inds[0]]\n",
    "    \n",
    "    #removing nans where U V or J didn't exist \n",
    "    non_nan_inds = np.where(np.logical_and(np.isnan(U_V) == False , np.isnan(V_J) == False))[0]\n",
    "    U_V = U_V[non_nan_inds]\n",
    "    V_J = V_J[non_nan_inds]\n",
    "    #xray1 = xray1[non_nan_inds]\n",
    "    ids1 = ids1[non_nan_inds]\n",
    "    #galaxies1 = galaxies1[non_nan_inds]\n",
    "\n",
    "    quiescent = [] \n",
    "    \n",
    "    first_section_V_J = np.where(np.logical_and(V_J > -6, V_J < 0.7))[0]\n",
    "    first_section = np.where(U_V[first_section_V_J] > 1.3)[0]\n",
    "    for fs in first_section: \n",
    "        quiescent.append(fs)\n",
    "\n",
    "    second_section_V_J = np.where(np.logical_and(V_J > 0.7, V_J < 1.6))[0]\n",
    "    for ss in second_section_V_J: \n",
    "        threshold = 0.7*(V_J[ss]-0.7)/0.9 + 1.3\n",
    "        if U_V[ss] > threshold: \n",
    "            quiescent.append(ss)\n",
    "    quiescent = np.array(quiescent) \n",
    "    \n",
    "    V_J_outliers = np.where(np.logical_or(V_J > -1, V_J < 1))[0]\n",
    "    \n",
    "    U_V_outliers = np.where(np.logical_or(U_V > 2.5, U_V < -100))[0]\n",
    "    \n",
    "    for j in U_V_outliers: \n",
    "        if (j in V_J_outliers) == False: \n",
    "            np.append(V_J_outliers,j)\n",
    "        else: \n",
    "            pass\n",
    "        \n",
    "    if (x[0] == 2) == True:\n",
    "        all_outliers.append(ids1[U_V_outliers]) # used to be out of loop and be VJ also set bounds back\n",
    "    else: \n",
    "        pass\n",
    "    \n",
    "    plt.clf()\n",
    "    ax = plt.axes()\n",
    "    cmap_reversed = plt.cm.get_cmap('ocean_r')\n",
    "    xb = int((max(V_J) - min(V_J))*4)\n",
    "    yb = int((max(U_V) - min(U_V))*4)\n",
    "    \n",
    "    plt.scatter(V_J, U_V, s=6)\n",
    "    #print(min(xray1[np.isnan(xray1) == False]))\n",
    "    #print(max(xray1[np.isnan(xray1) == False]))\n",
    "    #plt.clim(0, .00001)\n",
    "    #plt.colorbar()\n",
    "    \n",
    "    plt.xlabel('V-J')\n",
    "    plt.ylabel('U-V')\n",
    "    \n",
    "    plt.plot([-6,0.7],[1.3,1.3],'k')\n",
    "    plt.plot([0.7,1.6],[1.3,2],'k')\n",
    "    plt.plot([1.6,1.6],[2,6],'k')\n",
    "    plt.xlim(-1.5,2.5)\n",
    "    plt.ylim(-0.5,3.5)\n",
    "    plt.gca().set_aspect('equal', adjustable='box')\n",
    "    plt.title('z=' + str(x[0]) + ',' + str(x[1]) + ' all plots each colorbar')\n",
    "    plt.text(-1.25,-.25,str(int(len(quiescent)*100/len(U_V))) + '% Quiescent',color='black')\n",
    "    plt.savefig('latest norm' + (str(x)) + '.png')\n",
    "    plt.show()"
   ]
  }
 ],
 "metadata": {
  "kernelspec": {
   "display_name": "Python 3",
   "language": "python",
   "name": "python3"
  },
  "language_info": {
   "codemirror_mode": {
    "name": "ipython",
    "version": 3
   },
   "file_extension": ".py",
   "mimetype": "text/x-python",
   "name": "python",
   "nbconvert_exporter": "python",
   "pygments_lexer": "ipython3",
   "version": "3.7.6"
  }
 },
 "nbformat": 4,
 "nbformat_minor": 4
}
