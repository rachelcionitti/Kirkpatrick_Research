{
 "cells": [
  {
   "cell_type": "code",
   "execution_count": 1,
   "metadata": {},
   "outputs": [],
   "source": [
    "from astropy.io import fits \n",
    "import matplotlib.pyplot as plt\n",
    "import numpy as np \n",
    "from scipy.optimize import minimize, rosen, rosen_der\n",
    "from scipy import interpolate\n",
    "import scipy\n",
    "import os \n",
    "from scipy.optimize import curve_fit\n",
    "from scipy.integrate import simps\n",
    "import math\n",
    "from astropy.io import ascii\n",
    "params = {\"ytick.color\" : \"w\",\n",
    "          \"xtick.color\" : \"w\",\n",
    "          \"text.color\" : \"w\",\n",
    "          \"axes.labelcolor\" : \"w\",\n",
    "          \"axes.edgecolor\" : \"w\"}\n",
    "plt.rcParams.update(params)\n",
    "from astropy.cosmology import WMAP9 as cosmo"
   ]
  },
  {
   "cell_type": "code",
   "execution_count": 2,
   "metadata": {},
   "outputs": [],
   "source": [
    "def interpolate(arr1,arr2,interparr): \n",
    "    from scipy import interpolate\n",
    "    interp_vals = [] \n",
    "    for y in interparr: \n",
    "        leftx = arr1[arr1 < y].max() #closest point on left x\n",
    "        rightx = arr1[arr1 > y].min() #closest point on right x\n",
    "        lefty = arr2[np.where(arr1 == leftx)][0] #closest point on left y \n",
    "        righty = arr2[np.where(arr1 == rightx)][0] #closest point on right y\n",
    "        interp = interpolate.interp1d([leftx,rightx],[lefty,righty]) #use the xs and ys to interpolate \n",
    "        val_for_match = interp(y) #use function from interp on wavelength value of galaxy\n",
    "        interp_vals.append(val_for_match + 0)\n",
    "    return interp_vals "
   ]
  },
  {
   "cell_type": "code",
   "execution_count": 3,
   "metadata": {},
   "outputs": [],
   "source": [
    "input_data = np.genfromtxt(\"C:/Users/19133/Documents/Research/Final_Data_04_06.txt\")\n",
    "input_redshift = input_data[:,3]\n",
    "input_ids = input_data[:,6]"
   ]
  },
  {
   "cell_type": "code",
   "execution_count": 4,
   "metadata": {},
   "outputs": [],
   "source": [
    "data = ascii.read(\"C:/Users/19133/Documents/cigale-xray/cigale-xray/pcigale/out/results.txt\")"
   ]
  },
  {
   "cell_type": "code",
   "execution_count": null,
   "metadata": {},
   "outputs": [
    {
     "name": "stderr",
     "output_type": "stream",
     "text": [
      "C:\\Users\\19133\\Anaconda3\\lib\\site-packages\\ipykernel_launcher.py:35: ConversionWarning: Some errors were detected !\n",
      "    Line #1802 (got 1 columns instead of 2)\n"
     ]
    }
   ],
   "source": [
    "data = ascii.read(\"C:/Users/19133/Documents/cigale-xray/cigale-xray/pcigale/out/results.txt\")\n",
    "#taking XCigale results and choosing which ones are good enough fits to use \n",
    "chi_good = np.where(np.logical_and(data['best.reduced_chi_square'] > 0, data['best.reduced_chi_square'] < 5))[0]\n",
    "ids = data['id'][chi_good]\n",
    "\n",
    "UVJs = [] \n",
    "zs = [] \n",
    "idss = [] \n",
    "#going over each source/fit \n",
    "for x in range(len(ids)):\n",
    "    \n",
    "    #finding redshift that corresponds to id number\n",
    "    #checked that XCigale uses right redshifts so this could be simpler \n",
    "    id_here = ids[x]\n",
    "    if (id_here in input_ids) == True:\n",
    "        ind = np.where(id_here == input_ids)\n",
    "        z = input_redshift[ind]\n",
    "    else:\n",
    "        pass\n",
    "    \n",
    "    \n",
    "    #choosing the SED for this source \n",
    "    best_model = fits.open(\"C:/Users/19133/Documents/cigale-xray/cigale-xray/pcigale/out/\" + str(id_here) + \"_best_model.fits\")\n",
    "    #manipulating the data \n",
    "    temp_x21 = best_model[1].data['wavelength'] #plots are in microm, but this is in angstroms i guess???\n",
    "    #correcting for redshift (do I need to do this?)\n",
    "    temp_x2 = temp_x21/(1+z)\n",
    "    temp_y2 = best_model[1].data['Fnu']\n",
    "\n",
    "    #Now we have our points and the template/scaling factor that fits best\n",
    "    #Now we use that template to generate our fake points\n",
    "    fake_points = [] \n",
    "\n",
    "    Uf = np.genfromtxt(\"C:/Users/19133/Documents/Research/Kirkpatrick/Bessel_U.txt\",invalid_raise = False)\n",
    "    Vf = np.genfromtxt(\"C:/Users/19133/Documents/Research/Kirkpatrick/Bessel_V.txt\",invalid_raise = False)\n",
    "    Jf = np.genfromtxt(\"C:/Users/19133/Documents/Research/Kirkpatrick/VISTA_J.dat\",invalid_raise = False)\n",
    "\n",
    "    Uf[:,0] = Uf[:,0]*10\n",
    "    Vf[:,0] = Vf[:,0]*10\n",
    "    Jf[:,0] = Jf[:,0]*10\n",
    "\n",
    "    #Uf, Vf and Jf all transmission curves that will be used to make one point\n",
    "    #To calculate fake photometric points\n",
    "    for h in [Uf,Vf,Jf]:\n",
    "\n",
    "        temp_fluxes2 = interpolate(temp_x2,temp_y2,h[:,0])  \n",
    "\n",
    "        #Transmission curve                 \n",
    "        trans_wavelengths = h[:,0]\n",
    "        trans_fluxes = h[:,1]\n",
    "        temp_fluxes2 = np.array(temp_fluxes2)\n",
    "\n",
    "        #Doing calculations to generate fake point\n",
    "        ydata = trans_fluxes*temp_fluxes2\n",
    "        num = simps(ydata,dx=10000)\n",
    "        denom = simps(trans_fluxes,dx=10000)\n",
    "        fake_point = num/denom\n",
    "        fake_points.append(fake_point) \n",
    "    \n",
    "    UVJs.append(fake_points)\n",
    "    zs.append(z[0])\n",
    "    idss.append(id_here)\n",
    "        \n",
    "    #plt.plot(temp_x2,temp_y2)\n",
    "    #plt.plot([3543,5510,12000], fake_points,'ro')\n",
    "    #plt.plot()\n",
    "    #plt.loglog()\n",
    "    #plt.show()"
   ]
  },
  {
   "cell_type": "code",
   "execution_count": null,
   "metadata": {},
   "outputs": [],
   "source": [
    "from prettytable import PrettyTable\n",
    "#putting data to a file for XCigale \n",
    "\n",
    "x = PrettyTable()\n",
    "\n",
    "x.add_column(\"U\", np.array(UVJs)[:,0])\n",
    "x.add_column(\"V\", np.array(UVJs)[:,1])\n",
    "x.add_column(\"J\", np.array(UVJs)[:,2])\n",
    "x.add_column(\"ids\", np.array(idss))\n",
    "x.add_column(\"z\", np.array(zs))\n",
    "x.border=False\n",
    "\n",
    "xcigale_UVJ = open(\"C:/Users/19133/Documents/cigale-xray/cigale-xray/pcigale/xcigale_UVJ_04_08.txt\", \"w+\")\n",
    "xcigale_UVJ.close()\n",
    "\n",
    "with open(\"C:/Users/19133/Documents/cigale-xray/cigale-xray/pcigale/xcigale_UVJ_04_08.txt\",'w') as f: \n",
    "    f.write(x.get_string())"
   ]
  }
 ],
 "metadata": {
  "kernelspec": {
   "display_name": "Python 3",
   "language": "python",
   "name": "python3"
  },
  "language_info": {
   "codemirror_mode": {
    "name": "ipython",
    "version": 3
   },
   "file_extension": ".py",
   "mimetype": "text/x-python",
   "name": "python",
   "nbconvert_exporter": "python",
   "pygments_lexer": "ipython3",
   "version": "3.7.6"
  }
 },
 "nbformat": 4,
 "nbformat_minor": 4
}
